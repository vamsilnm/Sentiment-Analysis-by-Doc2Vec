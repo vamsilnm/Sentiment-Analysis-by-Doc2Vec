{
 "cells": [
  {
   "cell_type": "code",
   "execution_count": 143,
   "metadata": {
    "collapsed": false
   },
   "outputs": [],
   "source": [
    "from gensim import utils\n",
    "from gensim.models.doc2vec import LabeledSentence\n",
    "from gensim.models import Doc2Vec\n",
    "import numpy\n",
    "from random import shuffle\n",
    "from sklearn.linear_model import LogisticRegression\n",
    "import csv"
   ]
  },
  {
   "cell_type": "code",
   "execution_count": 90,
   "metadata": {
    "collapsed": false
   },
   "outputs": [
    {
     "data": {
      "text/plain": [
       "'I am nt feeling well  and dont know how to get out of this'"
      ]
     },
     "execution_count": 90,
     "metadata": {},
     "output_type": "execute_result"
    }
   ],
   "source": [
    "st = \"  I am n't feeling well :::----;;;;;''''''' and don't k,,,,now how to get out of this      \"\n",
    "import re\n",
    "s = re.sub(r'[^\\w\\s]','',st)\n",
    "s.strip()"
   ]
  },
  {
   "cell_type": "code",
   "execution_count": 60,
   "metadata": {
    "collapsed": false
   },
   "outputs": [],
   "source": [
    "import glob\n",
    "i = 0\n",
    "for filename in glob.glob('/home/vamsi/Downloads/Problem1_Dataset/txt_sentoken/neg/*.txt', recursive=True):\n",
    "    with open(filename) as myfile:\n",
    "        data=\"\".join(line.rstrip() for line in myfile)\n",
    "        data = re.sub(r'[^\\w\\s]','',data)\n",
    "        data = data.strip()\n",
    "    with open(filename, 'w') as out:\n",
    "        out.write(data + '\\n')\n",
    "    with open('/home/vamsi/Downloads/Problem1_Dataset/txt_sentoken/neg/train-neg.txt','a') as out:\n",
    "        out.write(data + '\\n')\n",
    "    if i <= 49:\n",
    "        with open('/home/vamsi/Downloads/Problem1_Dataset/txt_sentoken/neg/test-neg.txt','a') as out:\n",
    "            out.write(data + '\\n')\n",
    "        i += 1\n",
    "        \n",
    "\n"
   ]
  },
  {
   "cell_type": "code",
   "execution_count": 62,
   "metadata": {
    "collapsed": true
   },
   "outputs": [],
   "source": [
    "i = 0\n",
    "for filename in glob.glob('/home/vamsi/Downloads/Problem1_Dataset/txt_sentoken/pos/*.txt', recursive=True):\n",
    "    with open(filename) as myfile:\n",
    "        data=\"\".join(line.rstrip() for line in myfile)\n",
    "        data = re.sub(r'[^\\w\\s]','',data)\n",
    "        data = data.strip()\n",
    "    with open(filename, 'w') as out:\n",
    "        out.write(data + '\\n')\n",
    "    with open('/home/vamsi/Downloads/Problem1_Dataset/txt_sentoken/pos/train-pos.txt','a') as out:\n",
    "        out.write(data + '\\n')\n",
    "    if i <= 49:\n",
    "        with open('/home/vamsi/Downloads/Problem1_Dataset/txt_sentoken/pos/test-pos.txt','a') as out:\n",
    "            out.write(data + '\\n')\n",
    "        i += 1\n",
    "        "
   ]
  },
  {
   "cell_type": "code",
   "execution_count": 63,
   "metadata": {
    "collapsed": true
   },
   "outputs": [],
   "source": [
    "class LabeledLineSentence(object):\n",
    "    def __init__(self, sources):\n",
    "        self.sources = sources\n",
    "        reverse = {}\n",
    "        for key, value in sources.items():\n",
    "            if value not in reverse:\n",
    "                reverse[value] = [key]\n",
    "    def __iter__(self):\n",
    "        for source, prefix in self.sources.items():\n",
    "            with utils.smart_open(source) as fin:\n",
    "                for item_no, line in enumerate(fin):\n",
    "                    yield LabeledSentence(utils.to_unicode(line).split(), [prefix + '_%s' % item_no])\n",
    "    def to_array(self):\n",
    "        self.sentences = []\n",
    "        for source, prefix in self.sources.items():\n",
    "            with utils.smart_open(source) as fin:\n",
    "                for item_no, line in enumerate(fin):\n",
    "                    self.sentences.append(LabeledSentence(utils.to_unicode(line).split(), [prefix + '_%s' % item_no]))\n",
    "        return self.sentences\n",
    "    def sentences_perm(self):\n",
    "        shuffle(self.sentences)\n",
    "        return self.sentences"
   ]
  },
  {
   "cell_type": "code",
   "execution_count": 75,
   "metadata": {
    "collapsed": true
   },
   "outputs": [],
   "source": [
    "sources = {'/home/vamsi/Downloads/Problem1_Dataset/txt_sentoken/neg/train-neg.txt':'TRAIN_NEG', '/home/vamsi/Downloads/Problem1_Dataset/txt_sentoken/pos/train-pos.txt':'TRAIN_POS','/home/vamsi/Downloads/Problem1_Dataset/txt_sentoken/neg/test-neg.txt':'TEST_NEG','/home/vamsi/Downloads/Problem1_Dataset/txt_sentoken/pos/test-pos.txt':'TEST_POS'}\n",
    "sentences = LabeledLineSentence(sources)"
   ]
  },
  {
   "cell_type": "code",
   "execution_count": 76,
   "metadata": {
    "collapsed": true
   },
   "outputs": [],
   "source": [
    "model = Doc2Vec(min_count=1, window=10, size=100, sample=1e-4, negative=5, workers=8)\n",
    "model.build_vocab(sentences.to_array())"
   ]
  },
  {
   "cell_type": "code",
   "execution_count": 77,
   "metadata": {
    "collapsed": true
   },
   "outputs": [],
   "source": [
    "for epoch in range(10):\n",
    "    model.train(sentences.sentences_perm())"
   ]
  },
  {
   "cell_type": "code",
   "execution_count": 78,
   "metadata": {
    "collapsed": true
   },
   "outputs": [],
   "source": [
    "model.save('./imdb.d2v')"
   ]
  },
  {
   "cell_type": "code",
   "execution_count": 79,
   "metadata": {
    "collapsed": true
   },
   "outputs": [],
   "source": [
    "model = Doc2Vec.load('./imdb.d2v')"
   ]
  },
  {
   "cell_type": "code",
   "execution_count": 99,
   "metadata": {
    "collapsed": false
   },
   "outputs": [
    {
     "data": {
      "text/plain": [
       "(100,)"
      ]
     },
     "execution_count": 99,
     "metadata": {},
     "output_type": "execute_result"
    }
   ],
   "source": [
    "model.docvecs['TRAIN_NEG_1'].shape\n"
   ]
  },
  {
   "cell_type": "code",
   "execution_count": 82,
   "metadata": {
    "collapsed": false
   },
   "outputs": [],
   "source": [
    "train_arrays = numpy.zeros((2000, 100))\n",
    "train_labels = numpy.zeros(2000)\n",
    "for i in range(1000):\n",
    "    prefix_train_pos = 'TRAIN_POS_' + str(i)\n",
    "    prefix_train_neg = 'TRAIN_NEG_' + str(i)\n",
    "    train_arrays[i] = model.docvecs[prefix_train_pos]\n",
    "    train_arrays[1000 + i] = model.docvecs[prefix_train_neg]\n",
    "    train_labels[i] = 1\n",
    "    train_labels[1000 + i] = -1"
   ]
  },
  {
   "cell_type": "code",
   "execution_count": 85,
   "metadata": {
    "collapsed": false
   },
   "outputs": [],
   "source": [
    "test_arrays = numpy.zeros((100, 100))\n",
    "test_labels = numpy.zeros(100)\n",
    "\n",
    "for i in range(50):\n",
    "    prefix_test_pos = 'TEST_POS_' + str(i)\n",
    "    prefix_test_neg = 'TEST_NEG_' + str(i)\n",
    "    test_arrays[i] = model.docvecs[prefix_test_pos]\n",
    "    test_arrays[50 + i] = model.docvecs[prefix_test_neg]\n",
    "    test_labels[i] = 1\n",
    "    test_labels[50 + i] = -1"
   ]
  },
  {
   "cell_type": "code",
   "execution_count": 86,
   "metadata": {
    "collapsed": false
   },
   "outputs": [
    {
     "data": {
      "text/plain": [
       "LogisticRegression(C=1.0, class_weight=None, dual=False, fit_intercept=True,\n",
       "          intercept_scaling=1, max_iter=100, multi_class='ovr', n_jobs=1,\n",
       "          penalty='l2', random_state=None, solver='liblinear', tol=0.0001,\n",
       "          verbose=0, warm_start=False)"
      ]
     },
     "execution_count": 86,
     "metadata": {},
     "output_type": "execute_result"
    }
   ],
   "source": [
    "classifier = LogisticRegression()\n",
    "classifier.fit(train_arrays, train_labels)"
   ]
  },
  {
   "cell_type": "code",
   "execution_count": 94,
   "metadata": {
    "collapsed": false
   },
   "outputs": [
    {
     "data": {
      "text/plain": [
       "0.85999999999999999"
      ]
     },
     "execution_count": 94,
     "metadata": {},
     "output_type": "execute_result"
    }
   ],
   "source": [
    "classifier.score(test_arrays, test_labels)"
   ]
  },
  {
   "cell_type": "code",
   "execution_count": 121,
   "metadata": {
    "collapsed": false
   },
   "outputs": [],
   "source": [
    "test_arrays_proba = classifier.predict_proba(test_arrays)"
   ]
  },
  {
   "cell_type": "code",
   "execution_count": 216,
   "metadata": {
    "collapsed": false
   },
   "outputs": [],
   "source": [
    "test_arrays_proba_reduced = map(lambda x:(x[0]* -1 + x[1]*1),test_arrays_proba)"
   ]
  },
  {
   "cell_type": "code",
   "execution_count": 217,
   "metadata": {
    "collapsed": false
   },
   "outputs": [],
   "source": [
    "sentiment_score = []\n",
    "for itr in test_arrays_proba_reduced:\n",
    "    sentiment_score.append(itr)"
   ]
  },
  {
   "cell_type": "code",
   "execution_count": 219,
   "metadata": {
    "collapsed": false
   },
   "outputs": [],
   "source": [
    "review_text_test = []\n",
    "with open('/home/vamsi/Downloads/Problem1_Dataset/txt_sentoken/pos/test-pos.txt', 'r') as f:\n",
    "    reader = csv.reader(f, dialect='excel', delimiter='\\n')\n",
    "    for row in reader:\n",
    "        review_text_test.append(row)\n"
   ]
  },
  {
   "cell_type": "code",
   "execution_count": 220,
   "metadata": {
    "collapsed": false
   },
   "outputs": [],
   "source": [
    "with open('/home/vamsi/Downloads/Problem1_Dataset/txt_sentoken/neg/test-neg.txt', 'r') as f:\n",
    "    reader = csv.reader(f, dialect='excel', delimiter='\\n')\n",
    "    for row in reader:\n",
    "        review_text_test.append(row)"
   ]
  },
  {
   "cell_type": "code",
   "execution_count": 221,
   "metadata": {
    "collapsed": false
   },
   "outputs": [],
   "source": [
    "predicted_sentiment_list = classifier.predict(test_arrays).tolist()"
   ]
  },
  {
   "cell_type": "code",
   "execution_count": 222,
   "metadata": {
    "collapsed": false
   },
   "outputs": [],
   "source": [
    "actual_sentiment_list = test_labels.tolist()"
   ]
  },
  {
   "cell_type": "code",
   "execution_count": 224,
   "metadata": {
    "collapsed": false
   },
   "outputs": [],
   "source": [
    "final_output = [['Review_Text','Actual_Sentiment','Computed_Sentiment','Sentiment_Score']]\n",
    "for itr in range(0,100):\n",
    "    final_output.append([review_text_test[itr],actual_sentiment_list[itr],predicted_sentiment_list[itr],sentiment_score[itr]])\n",
    "    "
   ]
  },
  {
   "cell_type": "code",
   "execution_count": 225,
   "metadata": {
    "collapsed": false
   },
   "outputs": [],
   "source": [
    "with open('/home/vamsi/Downloads/Problem1_Dataset/txt_sentoken/report.csv','w') as csvfile:\n",
    "    writer = csv.writer(csvfile,delimiter = ',')\n",
    "    writer.writerows(final_output)\n"
   ]
  },
  {
   "cell_type": "code",
   "execution_count": null,
   "metadata": {
    "collapsed": true
   },
   "outputs": [],
   "source": []
  },
  {
   "cell_type": "code",
   "execution_count": null,
   "metadata": {
    "collapsed": true
   },
   "outputs": [],
   "source": []
  }
 ],
 "metadata": {
  "anaconda-cloud": {},
  "kernelspec": {
   "display_name": "Python [conda root]",
   "language": "python",
   "name": "conda-root-py"
  },
  "language_info": {
   "codemirror_mode": {
    "name": "ipython",
    "version": 3
   },
   "file_extension": ".py",
   "mimetype": "text/x-python",
   "name": "python",
   "nbconvert_exporter": "python",
   "pygments_lexer": "ipython3",
   "version": "3.5.2"
  }
 },
 "nbformat": 4,
 "nbformat_minor": 1
}
